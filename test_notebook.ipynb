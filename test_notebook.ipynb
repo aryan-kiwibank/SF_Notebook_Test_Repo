{
 "metadata": {
  "kernelspec": {
   "display_name": "test-_o6FHLRx",
   "language": "python",
   "name": "python3"
  },
  "language_info": {
   "codemirror_mode": {
    "name": "ipython",
    "version": 3
   },
   "file_extension": ".py",
   "mimetype": "text/x-python",
   "name": "python",
   "nbconvert_exporter": "python",
   "pygments_lexer": "ipython3",
   "version": "3.11.11"
  },
  "lastEditStatus": {
   "notebookId": "6zyyt25ldpb5wp3um4mj",
   "authorId": "7347630527161",
   "authorName": "ARYANA",
   "authorEmail": "Aryan.Arora@kiwibank.co.nz",
   "sessionId": "73d29ee0-2951-47e1-b0a7-d4d92139daa3",
   "lastEditTime": 1746497365534
  }
 },
 "nbformat_minor": 5,
 "nbformat": 4,
 "cells": [
  {
   "cell_type": "code",
   "execution_count": null,
   "id": "bdfc83a1-a624-41fa-8a81-bb976dc17ddf",
   "metadata": {
    "name": "cell1",
    "language": "python"
   },
   "outputs": [],
   "source": "RUN_ENV = \"ui\"\n\nif RUN_ENV == \"local\":\n    from snowflake.snowpark import Session\n    session = Session.builder.config(\"connection_name\", \"personal_db_conn\").create()\n\nelif RUN_ENV == \"ui\":\n    session = get_active_session()\n\nelse:\n    print(\"Please specify RUN_ENV to local or ui\")"
  },
  {
   "cell_type": "code",
   "execution_count": null,
   "id": "25404d0e-24d0-4bc0-bad4-7f76902066dd",
   "metadata": {
    "name": "cell2",
    "language": "python"
   },
   "outputs": [],
   "source": "df_customer = session.table(\"raw.test_topic_v1__raw\").limit(10)\ndf_customer.show()"
  },
  {
   "cell_type": "code",
   "execution_count": null,
   "id": "d1d367b0-e4ae-44e6-b146-89a04474c443",
   "metadata": {
    "name": "cell3",
    "language": "python"
   },
   "outputs": [],
   "source": "df_customer = session.table(\"raw.test_topic_v1__raw\").limit(10)\ndf_customer.show()"
  },
  {
   "cell_type": "code",
   "execution_count": null,
   "id": "62c860cb-c966-462a-9a25-42a353f067ee",
   "metadata": {
    "name": "cell4",
    "language": "python"
   },
   "outputs": [],
   "source": "query = \"SELECT * FROM raw.test_topic_v1__raw LIMIT 10\"\nresult = session.sql(query)\nresult.show()"
  },
  {
   "cell_type": "code",
   "execution_count": null,
   "id": "5713b5f3-6cdf-452f-9e12-fe18b14ba32c",
   "metadata": {
    "name": "cell5",
    "language": "python"
   },
   "outputs": [],
   "source": "session.sql(\"SELECT * FROM raw.test_topic_v1__raw LIMIT 10\").collect()"
  },
  {
   "cell_type": "code",
   "execution_count": null,
   "id": "fe81e799-036a-4ce1-a57d-94a7a2c1d310",
   "metadata": {
    "name": "cell6",
    "language": "python"
   },
   "outputs": [],
   "source": [
    "import pandas\n",
    "\n",
    "pd_df = df_customer.to_pandas()\n",
    "print(pd_df)"
   ]
  },
  {
   "cell_type": "markdown",
   "id": "46c95271-95ff-4954-90a0-c57c7be786ef",
   "metadata": {
    "name": "cell7"
   },
   "source": []
  }
 ]
}