{
 "cells": [
  {
   "cell_type": "code",
   "execution_count": null,
   "id": "ddbd77b2",
   "metadata": {},
   "outputs": [],
   "source": [
    "from snowflake.snowpark import Session\n",
    "\n",
    "session = Session.builder.config(\"connection_name\", \"personal_db_conn\").create()"
   ]
  },
  {
   "cell_type": "code",
   "execution_count": null,
   "id": "0c48552e",
   "metadata": {},
   "outputs": [],
   "source": [
    "df_customer = session.table(\"raw.customer\").limit(10)\n",
    "df_customer.show()"
   ]
  },
  {
   "cell_type": "code",
   "execution_count": null,
   "id": "22a01820",
   "metadata": {},
   "outputs": [],
   "source": [
    "df_customer = session.table(\"raw.dim_customer\").limit(10)\n",
    "df_customer.show()"
   ]
  },
  {
   "cell_type": "code",
   "execution_count": null,
   "id": "c200cd03",
   "metadata": {},
   "outputs": [],
   "source": [
    "query = \"SELECT * FROM raw.customer LIMIT 10\"\n",
    "result = session.sql(query)\n",
    "result.show()"
   ]
  },
  {
   "cell_type": "code",
   "execution_count": null,
   "id": "3082037e",
   "metadata": {},
   "outputs": [],
   "source": [
    "session.sql(\"SELECT * FROM raw.customer LIMIT 10\").collect()"
   ]
  },
  {
   "cell_type": "code",
   "execution_count": null,
   "id": "2c748794",
   "metadata": {},
   "outputs": [],
   "source": [
    "import pandas\n",
    "\n",
    "pd_df = df_customer.to_pandas()\n",
    "print(pd_df)"
   ]
  },
  {
   "cell_type": "markdown",
   "id": "d9d8de5c",
   "metadata": {},
   "source": []
  },
  {
   "cell_type": "code",
   "execution_count": null,
   "id": "32702b88",
   "metadata": {},
   "outputs": [],
   "source": [
    "pip freeze"
   ]
  }
 ],
 "metadata": {
  "kernelspec": {
   "display_name": "test-_o6FHLRx",
   "language": "python",
   "name": "python3"
  },
  "language_info": {
   "codemirror_mode": {
    "name": "ipython",
    "version": 3
   },
   "file_extension": ".py",
   "mimetype": "text/x-python",
   "name": "python",
   "nbconvert_exporter": "python",
   "pygments_lexer": "ipython3",
   "version": "3.11.11"
  }
 },
 "nbformat": 4,
 "nbformat_minor": 5
}
